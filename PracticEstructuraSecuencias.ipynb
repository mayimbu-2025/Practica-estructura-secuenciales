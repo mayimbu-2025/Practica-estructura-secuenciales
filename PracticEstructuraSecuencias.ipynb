{
  "nbformat": 4,
  "nbformat_minor": 0,
  "metadata": {
    "colab": {
      "provenance": [],
      "authorship_tag": "ABX9TyMZ8n58NDLPIU0vaBeTSA/U",
      "include_colab_link": true
    },
    "kernelspec": {
      "name": "python3",
      "display_name": "Python 3"
    },
    "language_info": {
      "name": "python"
    }
  },
  "cells": [
    {
      "cell_type": "markdown",
      "metadata": {
        "id": "view-in-github",
        "colab_type": "text"
      },
      "source": [
        "<a href=\"https://colab.research.google.com/github/mayimbu-2025/Practica-estructura-secuenciales/blob/main/PracticEstructuraSecuencias.ipynb\" target=\"_parent\"><img src=\"https://colab.research.google.com/assets/colab-badge.svg\" alt=\"Open In Colab\"/></a>"
      ]
    },
    {
      "cell_type": "code",
      "execution_count": null,
      "metadata": {
        "id": "7AhXyp9YUR74"
      },
      "outputs": [],
      "source": []
    },
    {
      "cell_type": "markdown",
      "source": [
        "# Ejercicios de Practica con estructuras secuenciales\n",
        "\n",
        "**Curso**: Fundamentos de programacion\n",
        "\n",
        "**Presentado por**: Daniel David Pedroza\n",
        "\n",
        "**Email**: danieldavidorado19@gmail.com\n",
        "\n",
        "**Fecha**: 5 de septiembre de 2025\n",
        "\n",
        "\n"
      ],
      "metadata": {
        "id": "l8hLM-iVUTEe"
      }
    },
    {
      "cell_type": "markdown",
      "source": [
        "## Información Personal\n",
        "Diseña un programa que muestre la siguiente información:\n",
        "- Tu nombre\n",
        "- Tu dirección, con ciudad, estado y código postal\n",
        "- Tu número de teléfono\n",
        "- Tu especialización universitaria\n",
        "\n",
        "### Pseudocódigo\n",
        "```\n",
        "Programa para informacion personal\n",
        "Start\n",
        "  Declare string, nombre, direccion, ciudad, estado, codigo postal, telefono, carrera\n",
        "\n",
        "  Display \" Programa de informacion personal\"\n",
        "  Display \" Ingrese su nombre: \"\n",
        "  Input nombre\n",
        "  Display \" Ingrese su direccion: \"\n",
        "  Input direccion\n",
        "  Display \" ingrese su ciudad: \"\n",
        "  Input \" ciudad\n",
        "  Displat \" Ingrese su estado: \"\n",
        "  Input estado\n",
        "  Display \" Ingrese su codigo postal: \"\n",
        "  Input codigo postal\n",
        "  Display \" Ingrese su telefono: \"\n",
        "  input telefono\n",
        "  Display \" Ingrese su carrera: \"\n",
        "  Input carrera\n",
        "\n",
        "\n",
        "  Display \"Nombre: \", nombre\n",
        "  Display \"direccion: \", direccion\n",
        "  Display \"ciudad: \", ciudad\n",
        "  Display \"estado: \", estado\n",
        "  Display \"codigo postal: \", codigo postal\n",
        "  Display \"numero de telefono: \", telefono\n",
        "  Display \"carrera: \", carrera\n",
        "\n",
        "  End\n",
        "```"
      ],
      "metadata": {
        "id": "rwLpoqlCWeSm"
      }
    },
    {
      "cell_type": "code",
      "source": [
        "# Programa para informacion personal\n",
        "\n",
        "print(\" Programa de informacion personal\")\n",
        "\n",
        "##variables\n",
        "nombre = input(\" Ingrese su nombre: \")\n",
        "direccion = input(\" Ingrese su direccion: \")\n",
        "ciudad =  input(\" ingrese su ciudad: \")\n",
        "estado =  input(\" Ingrese su estado: \")\n",
        "codigopostal = input(\" Ingrese su codigo postal: \")\n",
        "telefono = input(\" Ingrese su telefono: \")\n",
        "carrera = input(\" Ingrese su carrera: \")\n",
        "\n",
        "print(\"Nombre: \", nombre)\n",
        "print(\"direccion: \", direccion)\n",
        "print(\"ciudad: \", ciudad)\n",
        "print(\"estado: \", estado)\n",
        "print(\"codigo postal: \", codigopostal)\n",
        "print(\"numero de telefono: \", telefono)\n",
        "print(\"carrera: \", carrera)"
      ],
      "metadata": {
        "colab": {
          "base_uri": "https://localhost:8080/"
        },
        "id": "MWFkXFbgW9MG",
        "outputId": "2ea469a4-5d17-40ee-b084-f26e4d036be2"
      },
      "execution_count": 2,
      "outputs": [
        {
          "output_type": "stream",
          "name": "stdout",
          "text": [
            " Programa de informacion personal\n",
            " Ingrese su nombre: DANIEL DAVID\n",
            " Ingrese su direccion: CERETE\n",
            " ingrese su ciudad: MONTERIA\n",
            " Ingrese su estado: CASADO\n",
            " Ingrese su codigo postal: NI IDEA\n",
            " Ingrese su telefono: +57 3207485645\n",
            " Ingrese su carrera: MECANICA\n",
            "Nombre:  DANIEL DAVID\n",
            "direccion:  CERETE\n",
            "ciudad:  MONTERIA\n",
            "estado:  CASADO\n",
            "codigo postal:  NI IDEA\n",
            "numero de telefono:  +57 3207485645\n",
            "carrera:  MECANICA\n"
          ]
        }
      ]
    },
    {
      "cell_type": "markdown",
      "source": [],
      "metadata": {
        "id": "3VjWtLOyWZfG"
      }
    }
  ]
}